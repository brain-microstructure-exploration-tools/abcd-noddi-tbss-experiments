{
 "cells": [
  {
   "cell_type": "markdown",
   "id": "73f58e7f",
   "metadata": {},
   "source": [
    "The goal of this notebook is to examine a FOD output and visualize it without using any purpose made visualization tool, requiring me to prove that I understand how to interpret the FOD coefficients."
   ]
  },
  {
   "cell_type": "code",
   "execution_count": null,
   "id": "dd1243b4",
   "metadata": {},
   "outputs": [],
   "source": [
    "from pathlib import Path\n",
    "import numpy as np\n",
    "import nibabel as nib\n",
    "from scipy.special import sph_harm\n",
    "from IPython.display import display, Javascript"
   ]
  },
  {
   "cell_type": "code",
   "execution_count": null,
   "id": "d7bd6a78",
   "metadata": {},
   "outputs": [],
   "source": [
    "fod_path = Path('csd_output_mrtrix_msmt/fod/WM/sub-NDARINV1JXDFV9Z_ses-baselineYear1Arm1_run-01_dwi_wmfod.nii.gz')\n",
    "dwi_path = Path('extracted_images/NDARINV1JXDFV9Z_baselineYear1Arm1_ABCD-MPROC-DTI_20161206184105/sub-NDARINV1JXDFV9Z/ses-baselineYear1Arm1/dwi/sub-NDARINV1JXDFV9Z_ses-baselineYear1Arm1_run-01_dwi.nii')"
   ]
  },
  {
   "cell_type": "code",
   "execution_count": null,
   "id": "257b6f7f",
   "metadata": {},
   "outputs": [],
   "source": [
    "dwi = nib.load(dwi_path)\n",
    "dwi_array = dwi.get_fdata()"
   ]
  },
  {
   "cell_type": "code",
   "execution_count": null,
   "id": "530c4c61",
   "metadata": {},
   "outputs": [],
   "source": [
    "img = nib.load(fod_path)\n",
    "img_array = img.get_fdata()"
   ]
  },
  {
   "cell_type": "code",
   "execution_count": null,
   "id": "93f9a5a5",
   "metadata": {},
   "outputs": [],
   "source": [
    "num_theta = 100\n",
    "num_phi = 100\n",
    "thetas = np.linspace(0,np.pi,num=num_theta,endpoint=False)\n",
    "phis = np.linspace(0,2*np.pi,num=num_phi,endpoint=False)\n",
    "th, ph = np.meshgrid(thetas, phis)"
   ]
  },
  {
   "cell_type": "code",
   "execution_count": null,
   "id": "4e17d245",
   "metadata": {},
   "outputs": [],
   "source": [
    "sphere_points = np.stack([np.sin(th) * np.cos(ph), np.sin(th) * np.sin(ph), np.cos(th)], axis=-1).reshape(-1,3)"
   ]
  },
  {
   "cell_type": "code",
   "execution_count": null,
   "id": "30f19cea",
   "metadata": {},
   "outputs": [],
   "source": [
    "def sph_harm_l_m(l_max):\n",
    "    for l in range(0,l_max+1,2):\n",
    "        for m in range(-l,l+1):\n",
    "            yield l,m\n",
    "l, m = np.array(list(sph_harm_l_m(8)),dtype=int).T"
   ]
  },
  {
   "cell_type": "code",
   "execution_count": null,
   "id": "28b148db",
   "metadata": {},
   "outputs": [],
   "source": [
    "# follows formula at https://mrtrix.readthedocs.io/en/latest/concepts/spherical_harmonics.html#storage-conventions\n",
    "def sph_harm_real(m,l,ph,th):\n",
    "    y = sph_harm(m,l,ph,th)\n",
    "    ynegm = sph_harm(-m,l,ph,th)\n",
    "    y = np.where(m<0,np.sqrt(2)*np.imag(ynegm),y)\n",
    "    y = np.where(m>0,np.sqrt(2)*np.real(y),y)\n",
    "    return np.real_if_close(y)"
   ]
  },
  {
   "cell_type": "code",
   "execution_count": null,
   "id": "00518eb0",
   "metadata": {},
   "outputs": [],
   "source": [
    "sph_harm_vals = sph_harm_real(m[:,np.newaxis],l[:,np.newaxis],ph.reshape(1,-1),th.reshape(1,-1))"
   ]
  },
  {
   "cell_type": "code",
   "execution_count": null,
   "id": "2e20f437",
   "metadata": {},
   "outputs": [],
   "source": [
    "dwi_array[79,87,84,0]"
   ]
  },
  {
   "cell_type": "markdown",
   "id": "dbcf5880",
   "metadata": {},
   "source": [
    "Hmm I can't even seem to get array values to match what I see in mrview when I do\n",
    "\n",
    "```sh\n",
    "mrview extracted_images/NDARINV1JXDFV9Z_baselineYear1Arm1_ABCD-MPROC-DTI_20161206184105/sub-NDARINV1JXDFV9Z/ses-baselineYear1Arm1/dwi/sub-NDARINV1JXDFV9Z_ses-baselineYear1Arm1_run-01_dwi.nii -odf.load_sh csd_output_mrtrix_msmt/fod/WM/sub-NDARINV1JXDFV9Z_ses-baselineYear1Arm1_run-01_dwi_wmfod.nii.gz\n",
    "```"
   ]
  },
  {
   "cell_type": "code",
   "execution_count": null,
   "id": "cec7ec71-15da-4cb4-b92d-713d6ce5b75b",
   "metadata": {},
   "outputs": [],
   "source": [
    "vtk_js_viewer_code = \"\"\"\n",
    "const script = document.createElement('script');\n",
    "script.src = 'https://unpkg.com/vtk.js';\n",
    "script.onload = () => {\n",
    "  const renderWindow = vtk.Rendering.Core.vtkRenderWindow.newInstance();\n",
    "  const renderer = vtk.Rendering.Core.vtkRenderer.newInstance({ background: [0,0,0] });\n",
    "  const actor = vtk.Rendering.Core.vtkActor.newInstance();\n",
    "  const mapper = vtk.Rendering.Core.vtkMapper.newInstance();\n",
    "  \n",
    "  const polydata = vtk.Common.DataModel.vtkPolyData.newInstance();\n",
    "  // const xyz = [1,0,0,0,1,0,0,0,1,-1,0,0,0,-1,0,0,0,-1];\n",
    "  polydata.getPoints().setData(Float32Array.from(xyz), 3);\n",
    "  const nbPoints = xyz.length / 3;\n",
    "  const vertex = new Uint16Array(nbPoints + 1);\n",
    "  vertex[0] = nbPoints;\n",
    "  for (let i = 0; i < nbPoints; i++) {\n",
    "     vertex[i+1] = i;\n",
    "  }\n",
    "  polydata.getVerts().setData(vertex);\n",
    "\n",
    "  renderWindow.addRenderer(renderer);\n",
    "  renderer.addActor(actor);\n",
    "  actor.setMapper(mapper);\n",
    "  actor.getProperty().setPointSize(1); // Set the point size here!\n",
    "  mapper.setInputData(polydata);\n",
    "  renderer.resetCamera();\n",
    "  \n",
    "  const openGLRenderWindow = vtk.Rendering.OpenGL.vtkRenderWindow.newInstance();\n",
    "  renderWindow.addView(openGLRenderWindow);\n",
    "  \n",
    "  const container = document.createElement('div');\n",
    "  container.style.width = '800px';\n",
    "  container.style.height = '600px';\n",
    "  element.appendChild(container);\n",
    "  openGLRenderWindow.setContainer(container);\n",
    "  \n",
    "  const { width, height } = container.getBoundingClientRect();\n",
    "  openGLRenderWindow.setSize(width, height);\n",
    "  \n",
    "  const interactor = vtk.Rendering.Core.vtkRenderWindowInteractor.newInstance();\n",
    "  interactor.setView(openGLRenderWindow);\n",
    "  interactor.initialize();\n",
    "  interactor.bindEvents(container);\n",
    "  \n",
    "  const interactorStyle = vtk.Interaction.Style.vtkInteractorStyleTrackballCamera.newInstance();\n",
    "  interactor.setInteractorStyle(interactorStyle);\n",
    "  \n",
    "  renderWindow.render();\n",
    "};\n",
    "document.head.appendChild(script);\n",
    "\"\"\"\n",
    "\n",
    "def view_voxel(i,j,k):\n",
    "    fod_vals = (img_array[i,j,k] @ sph_harm_vals)\n",
    "    scaled_sphere_pts = fod_vals[:,np.newaxis] * sphere_points\n",
    "    \n",
    "    js_code = f\"\"\"\n",
    "    const xyz = {list(scaled_sphere_pts.reshape(-1))};\n",
    "    \"\"\"\n",
    "    js_code += vtk_js_viewer_code\n",
    "    display(Javascript(js_code))"
   ]
  },
  {
   "cell_type": "code",
   "execution_count": null,
   "id": "815d18d7",
   "metadata": {},
   "outputs": [],
   "source": [
    "view_voxel(81,72,86)"
   ]
  }
 ],
 "metadata": {
  "jupytext": {
   "formats": "ipynb,auto:percent"
  },
  "kernelspec": {
   "display_name": "Python 3 (ipykernel)",
   "language": "python",
   "name": "python3"
  },
  "language_info": {
   "codemirror_mode": {
    "name": "ipython",
    "version": 3
   },
   "file_extension": ".py",
   "mimetype": "text/x-python",
   "name": "python",
   "nbconvert_exporter": "python",
   "pygments_lexer": "ipython3",
   "version": "3.9.5"
  }
 },
 "nbformat": 4,
 "nbformat_minor": 5
}
