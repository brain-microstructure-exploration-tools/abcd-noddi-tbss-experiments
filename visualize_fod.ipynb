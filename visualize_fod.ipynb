{
 "cells": [
  {
   "cell_type": "markdown",
   "id": "73f58e7f",
   "metadata": {},
   "source": [
    "The goal of this notebook is to examine a FOD output and visualize it without using any purpose made visualization tool, requiring me to prove that I understand how to interpret the FOD coefficients. It succeeds in using vtk.js to render FODs that look exactly like the ones shown by mrview."
   ]
  },
  {
   "cell_type": "code",
   "execution_count": null,
   "id": "dd1243b4",
   "metadata": {},
   "outputs": [],
   "source": [
    "from pathlib import Path\n",
    "import numpy as np\n",
    "import nibabel as nib\n",
    "from scipy.special import sph_harm\n",
    "from IPython.display import display, Javascript"
   ]
  },
  {
   "cell_type": "code",
   "execution_count": null,
   "id": "d7bd6a78",
   "metadata": {},
   "outputs": [],
   "source": [
    "fod_path = Path('csd_output_mrtrix_msmt/fod/WM/sub-NDARINV1JXDFV9Z_ses-baselineYear1Arm1_run-01_dwi_wmfod.nii.gz')\n",
    "fod_dipy_path = Path('csd_output_dipy/fod/sub-NDARINV1JXDFV9Z_ses-baselineYear1Arm1_run-01_dwi_fod_mrtrixResponse.nii.gz')\n",
    "dwi_path = Path('extracted_images/NDARINV1JXDFV9Z_baselineYear1Arm1_ABCD-MPROC-DTI_20161206184105/sub-NDARINV1JXDFV9Z/ses-baselineYear1Arm1/dwi/sub-NDARINV1JXDFV9Z_ses-baselineYear1Arm1_run-01_dwi.nii')"
   ]
  },
  {
   "cell_type": "code",
   "execution_count": null,
   "id": "257b6f7f",
   "metadata": {},
   "outputs": [],
   "source": [
    "dwi = nib.load(dwi_path)\n",
    "dwi_array = dwi.get_fdata()"
   ]
  },
  {
   "cell_type": "code",
   "execution_count": null,
   "id": "530c4c61",
   "metadata": {},
   "outputs": [],
   "source": [
    "fod = nib.load(fod_path)\n",
    "fod_array = fod.get_fdata()\n",
    "fod_dipy = nib.load(fod_dipy_path)\n",
    "fod_dipy_array = fod_dipy.get_fdata()"
   ]
  },
  {
   "cell_type": "markdown",
   "id": "dbcf5880",
   "metadata": {},
   "source": [
    "The mrtrix image can be viewed in mrview as follows:\n",
    "\n",
    "```sh\n",
    "mrview extracted_images/NDARINV1JXDFV9Z_baselineYear1Arm1_ABCD-MPROC-DTI_20161206184105/sub-NDARINV1JXDFV9Z/ses-baselineYear1Arm1/dwi/sub-NDARINV1JXDFV9Z_ses-baselineYear1Arm1_run-01_dwi.nii -odf.load_sh csd_output_mrtrix_msmt/fod/WM/sub-NDARINV1JXDFV9Z_ses-baselineYear1Arm1_run-01_dwi_wmfod.nii.gz\n",
    "```\n",
    "\n",
    "The dipy generated fods (from ordinary CSD) can be viewed as follows:\n",
    "```sh\n",
    "mrview extracted_images/NDARINV1JXDFV9Z_baselineYear1Arm1_ABCD-MPROC-DTI_20161206184105/sub-NDARINV1JXDFV9Z/ses-baselineYear1Arm1/dwi/sub-NDARINV1JXDFV9Z_ses-baselineYear1Arm1_run-01_dwi.nii -odf.load_sh csd_output_dipy/fod/sub-NDARINV1JXDFV9Z_ses-baselineYear1Arm1_run-01_dwi_fod_mrtrixResponse.nii.gz\n",
    "```\n",
    "\n",
    "In order to get the voxel indices displayed in the mrview voxel info area to match array indices of `dwi_array`, the first axis needs to be reversed:"
   ]
  },
  {
   "cell_type": "code",
   "execution_count": null,
   "id": "a590384f-41bd-4b47-97fb-add285c38756",
   "metadata": {},
   "outputs": [],
   "source": [
    "dwi_array = dwi_array[::-1]\n",
    "fod_array = fod_array[::-1]\n",
    "fod_dipy_array = fod_dipy_array[::-1]"
   ]
  },
  {
   "cell_type": "markdown",
   "id": "41a67418-5bc4-4631-adf7-48783188d807",
   "metadata": {},
   "source": [
    "I do this transformation because I want to use mrview to compare my FOD renders to the FOD shapes as they are intepreted by the framework that generated them (mrtrix). I don't know why the first index gets reversed. Maybe it has to do with the minus sign in the affine:"
   ]
  },
  {
   "cell_type": "code",
   "execution_count": null,
   "id": "a5301d73-7f15-47d8-a72f-51c2834b41f6",
   "metadata": {},
   "outputs": [],
   "source": [
    "dwi.affine"
   ]
  },
  {
   "cell_type": "markdown",
   "id": "23adf883-e286-4273-90ad-9fc7fd1d450d",
   "metadata": {},
   "source": [
    "🤷"
   ]
  },
  {
   "cell_type": "code",
   "execution_count": null,
   "id": "93f9a5a5",
   "metadata": {},
   "outputs": [],
   "source": [
    "num_theta = 200\n",
    "num_phi = 200\n",
    "thetas = np.linspace(0,np.pi,num=num_theta,endpoint=True) # Note that we include endpoint for theta! The total number of them is still num_theta\n",
    "phis = np.linspace(0,2*np.pi,num=num_phi,endpoint=False)\n",
    "th, ph = np.meshgrid(thetas, phis)"
   ]
  },
  {
   "cell_type": "code",
   "execution_count": null,
   "id": "4e17d245",
   "metadata": {},
   "outputs": [],
   "source": [
    "sphere_points = np.stack([np.sin(th) * np.cos(ph), np.sin(th) * np.sin(ph), np.cos(th)], axis=-1).reshape(-1,3)"
   ]
  },
  {
   "cell_type": "code",
   "execution_count": null,
   "id": "7dc48ccb-735e-42f5-93da-41153bb3e603",
   "metadata": {},
   "outputs": [],
   "source": [
    "f = lambda i,j : i+j*num_theta # map from pair of theta_index,phi_index to a flattened single index\n",
    "polys_list = []\n",
    "for i in range(num_theta):\n",
    "    for j in range(num_phi):\n",
    "        polys_list += [4,f(i,j), f((i+1)%num_theta, j), f((i+1)%num_theta, (j+1)%num_phi), f(i, (j+1)%num_phi)]"
   ]
  },
  {
   "cell_type": "code",
   "execution_count": null,
   "id": "30f19cea",
   "metadata": {},
   "outputs": [],
   "source": [
    "def sph_harm_l_m(l_max):\n",
    "    for l in range(0,l_max+1,2):\n",
    "        for m in range(-l,l+1):\n",
    "            yield l,m\n",
    "l, m = np.array(list(sph_harm_l_m(8)),dtype=int).T"
   ]
  },
  {
   "cell_type": "code",
   "execution_count": null,
   "id": "28b148db",
   "metadata": {},
   "outputs": [],
   "source": [
    "# follows formula at https://mrtrix.readthedocs.io/en/latest/concepts/spherical_harmonics.html#storage-conventions\n",
    "def sph_harm_real(m,l,ph,th):\n",
    "    y = sph_harm(m,l,ph,th)\n",
    "    ynegm = sph_harm(-m,l,ph,th)\n",
    "    y = np.where(m<0,np.sqrt(2)*np.imag(ynegm),y)\n",
    "    y = np.where(m>0,np.sqrt(2)*np.real(y),y)\n",
    "    return np.real_if_close(y)"
   ]
  },
  {
   "cell_type": "code",
   "execution_count": null,
   "id": "00518eb0",
   "metadata": {},
   "outputs": [],
   "source": [
    "sph_harm_vals = sph_harm_real(m[:,np.newaxis],l[:,np.newaxis],ph.reshape(1,-1),th.reshape(1,-1))"
   ]
  },
  {
   "cell_type": "code",
   "execution_count": null,
   "id": "b77ce30d-c909-4852-9f05-6cb0da870e7a",
   "metadata": {},
   "outputs": [],
   "source": [
    "vtk_js_viewer_code = \"\"\"\n",
    "const script = document.createElement('script');\n",
    "script.src = 'https://unpkg.com/vtk.js';\n",
    "script.onload = () => {\n",
    "  const renderWindow = vtk.Rendering.Core.vtkRenderWindow.newInstance();\n",
    "  const renderer = vtk.Rendering.Core.vtkRenderer.newInstance({ background: [0,0,0] });\n",
    "  const actor = vtk.Rendering.Core.vtkActor.newInstance();\n",
    "  const mapper = vtk.Rendering.Core.vtkMapper.newInstance();\n",
    "\n",
    "  const polydata = vtk.Common.DataModel.vtkPolyData.newInstance();\n",
    "  polydata.getPoints().setData(Float32Array.from(pointsDataFromPython), 3);\n",
    "  polydata.getPolys().setData(Uint32Array.from(polysDataFromPython));\n",
    "  const normalsFilter = vtk.Filters.Core.vtkPolyDataNormals.newInstance();\n",
    "  normalsFilter.setInputData(polydata);\n",
    "\n",
    "  renderWindow.addRenderer(renderer);\n",
    "  renderer.addActor(actor);\n",
    "  actor.setMapper(mapper);\n",
    "  mapper.setInputConnection(normalsFilter.getOutputPort());\n",
    "  renderer.resetCamera();\n",
    "  \n",
    "  const openGLRenderWindow = vtk.Rendering.OpenGL.vtkRenderWindow.newInstance();\n",
    "  renderWindow.addView(openGLRenderWindow);\n",
    "  \n",
    "  const container = document.createElement('div');\n",
    "  container.style.width = '800px';\n",
    "  container.style.height = '600px';\n",
    "  element.appendChild(container);\n",
    "  openGLRenderWindow.setContainer(container);\n",
    "  \n",
    "  const { width, height } = container.getBoundingClientRect();\n",
    "  openGLRenderWindow.setSize(width, height);\n",
    "  \n",
    "  const interactor = vtk.Rendering.Core.vtkRenderWindowInteractor.newInstance();\n",
    "  interactor.setView(openGLRenderWindow);\n",
    "  interactor.initialize();\n",
    "  interactor.bindEvents(container);\n",
    "  \n",
    "  const interactorStyle = vtk.Interaction.Style.vtkInteractorStyleTrackballCamera.newInstance();\n",
    "  interactor.setInteractorStyle(interactorStyle);\n",
    "  \n",
    "  renderWindow.render();\n",
    "};\n",
    "document.head.appendChild(script);\n",
    "\"\"\"\n",
    "\n",
    "def view_voxel(i,j,k,fod_array):\n",
    "    fod_vals = (fod_array[i,j,k] @ sph_harm_vals)\n",
    "    scaled_sphere_pts = fod_vals[:,np.newaxis] * sphere_points\n",
    "    \n",
    "    js_code = f\"\"\"\n",
    "    const pointsDataFromPython = {list(scaled_sphere_pts.reshape(-1))};\n",
    "    const polysDataFromPython = {polys_list};\n",
    "    \"\"\"\n",
    "    js_code += vtk_js_viewer_code\n",
    "    display(Javascript(js_code))"
   ]
  },
  {
   "cell_type": "code",
   "execution_count": null,
   "id": "815d18d7",
   "metadata": {},
   "outputs": [],
   "source": [
    "view_voxel(70,70,84,fod_array)"
   ]
  },
  {
   "cell_type": "code",
   "execution_count": null,
   "id": "e062d2f6-8ece-4e2e-942b-e1bb8fc18660",
   "metadata": {},
   "outputs": [],
   "source": [
    "view_voxel(70,70,84,fod_dipy_array)"
   ]
  }
 ],
 "metadata": {
  "jupytext": {
   "formats": "ipynb,auto:percent"
  },
  "kernelspec": {
   "display_name": "Python 3 (ipykernel)",
   "language": "python",
   "name": "python3"
  },
  "language_info": {
   "codemirror_mode": {
    "name": "ipython",
    "version": 3
   },
   "file_extension": ".py",
   "mimetype": "text/x-python",
   "name": "python",
   "nbconvert_exporter": "python",
   "pygments_lexer": "ipython3",
   "version": "3.9.5"
  }
 },
 "nbformat": 4,
 "nbformat_minor": 5
}
